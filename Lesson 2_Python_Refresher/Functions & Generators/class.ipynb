{
 "cells": [
  {
   "cell_type": "markdown",
   "metadata": {},
   "source": [
    "Exercise 1\n",
    "Now let's assume that the current month is April, and you want to use a Person class to help make use of information about the friends in \n",
    "your contacts list. In particular, you'd like to increment the age of all of your friends with birthdays in April. You would also like to \n",
    "know who they are, along with their current ages, so you can send them birthday cards. Finally, you would also like to figure out which month \n",
    "has the most friends with birthdays, so you can budget for all of the birthday cards you will need to buy.\n",
    "\n",
    "In the following exercise, the Person class will be provided for you, and you will be working with a list of instances of the class, representing \n",
    "friends in your contacts. This list is stored in the variable people.\n",
    "\n",
    "To complete the exercise, you will need to do two things:\n",
    "\n",
    "Complete the function get_april_birthdays(people). This function should return a dictionary with each name of your friend with an April birthday as \n",
    "a key, and their updated age as the value.\n",
    "Complete the function get_most_common_month(people). This function should return the name of the month with the most number of birthdays among your friends.\n",
    "There is some testing code provided in test(), and there are more specific TODO instructions in each of the two functions mentioned."
   ]
  },
  {
   "cell_type": "code",
   "execution_count": null,
   "metadata": {},
   "outputs": [],
   "source": [
    "class Person:\n",
    "    def __init__(self, name, age, month):\n",
    "        self.name = name\n",
    "        self.age = age\n",
    "        self.birthday_month = month\n",
    "        \n",
    "    def birthday(self):\n",
    "        self.age += 1\n",
    "\n",
    "def create_person_objects(names, ages, months):\n",
    "    my_data = zip(names, ages, months)\n",
    "    person_objects = []\n",
    "    for item in my_data:\n",
    "        person_objects.append(Person(*item))\n",
    "    return person_objects\n",
    "\n",
    "def get_april_birthdays(people):\n",
    "    # TODO:\n",
    "    # Increment \"age\" for all people with birthdays in April.\n",
    "    # Return a dictionary \"april_birthdays\" with the names of\n",
    "    # all people with April birthdays as keys, and their updated ages \n",
    "    # as values. See the test below for an example expected output.\n",
    "    april_birthdays = {}\n",
    "\n",
    "    \n",
    "    # TODO: Modify the return statement \n",
    "    return\n",
    "\n",
    "def get_most_common_month(people):\n",
    "    # TODO:\n",
    "    # Use the \"months\" dictionary to record counts of birthday months\n",
    "    # for persons in the \"people\" data.\n",
    "    # Return the month with the largest number of birthdays.\n",
    "    months = {'January':0, 'February':0, 'March':0, 'April':0, 'May':0, \n",
    "              'June':0, 'July':0, 'August':0, 'September':0, 'October':0,\n",
    "              'November':0, 'December':0}\n",
    "    \n",
    "    # TODO: Modify the return statement.\n",
    "    return\n",
    "\n",
    "\n",
    "def test():\n",
    "    # Here is the data for the test. Assume there is a single most common month.\n",
    "    names = ['Howard', 'Richard', 'Jules', 'Trula', 'Michael', 'Elizabeth', 'Richard', 'Shirley', 'Mark', 'Brianna', 'Kenneth', 'Gwen', 'William', 'Rosa', 'Denver', 'Shelly', 'Sammy', 'Maryann', 'Kathleen', 'Andrew', 'Joseph', 'Kathleen', 'Lisa', 'Viola', 'George', 'Bonnie', 'Robert', 'William', 'Sabrina', 'John', 'Robert', 'Gil', 'Calvin', 'Robert', 'Dusty', 'Dario', 'Joeann', 'Terry', 'Alan', 'Rosa', 'Jeane', 'James', 'Rachel', 'Tu', 'Chelsea', 'Andrea', 'Ernest', 'Erica', 'Priscilla', 'Carol', 'Michael', 'Dale', 'Arthur', 'Helen', 'James', 'Donna', 'Patricia', 'Betty', 'Patricia', 'Mollie', 'Nicole', 'Ernest', 'Wendy', 'Graciela', 'Teresa', 'Nicole', 'Trang', 'Caleb', 'Robert', 'Paul', 'Nieves', 'Arleen', 'Milton', 'James', 'Lawrence', 'Edward', 'Susan', 'Patricia', 'Tana', 'Jessica', 'Suzanne', 'Darren', 'Arthur', 'Holly', 'Mary', 'Randal', 'John', 'Laura', 'Betty', 'Chelsea', 'Margaret', 'Angel', 'Jeffrey', 'Mary', 'Donald', 'David', 'Roger', 'Evan', 'Danny', 'William']\n",
    "    ages  = [17, 58, 79, 8, 10, 57, 4, 98, 19, 47, 81, 68, 48, 13, 39, 21, 98, 51, 49, 12, 24, 78, 36, 59, 3, 87, 94, 85, 43, 69, 15, 52, 57, 36, 52, 5, 52, 5, 33, 10, 71, 28, 70, 9, 25, 28, 76, 71, 22, 35, 35, 100, 9, 95, 69, 52, 66, 91, 39, 84, 65, 29, 20, 98, 30, 83, 30, 15, 88, 89, 24, 98, 62, 94, 86, 63, 34, 23, 23, 19, 10, 80, 88, 67, 17, 91, 85, 97, 29, 7, 34, 38, 92, 29, 14, 52, 94, 62, 70, 22]\n",
    "    months = ['January', 'March', 'January', 'October', 'April', 'February', 'August', 'January', 'June', 'August', 'February', 'May', 'March', 'June', 'February', 'August', 'June', 'March', 'August', 'April', 'April', 'June', 'April', 'June', 'February', 'September', 'March', 'July', 'September', 'December', 'June', 'June', 'August', 'November', 'April', 'November', 'August', 'June', 'January', 'August', 'May', 'March', 'March', 'March', 'May', 'September', 'August', 'April', 'February', 'April', 'May', 'March', 'March', 'January', 'August', 'October', 'February', 'November', 'August', 'June', 'September', 'September', 'January', 'September', 'July', 'July', 'December', 'June', 'April', 'February', 'August', 'September', 'August', 'February', 'April', 'July', 'May', 'November', 'December', 'February', 'August', 'August', 'September', 'December', 'February', 'March', 'June', 'December', 'February', 'May', 'April', 'July', 'March', 'June', 'December', 'March', 'July', 'May', 'September', 'November']\n",
    "    people = create_person_objects(names, ages, months)\n",
    "\n",
    "    # Calls to the two functions you have completed.\n",
    "    print(get_april_birthdays(people))\n",
    "    print(get_most_common_month(people))\n",
    "\n",
    "\n",
    "\n",
    "test()\n",
    "# Expected result:\n",
    "# {'Michael': 11, 'Erica': 72, 'Carol': 36, 'Lisa': 37, 'Lawrence': 87, 'Joseph': 25, 'Margaret': 35, 'Andrew': 13, 'Dusty': 53, 'Robert': 89}\n",
    "# August\n"
   ]
  },
  {
   "cell_type": "code",
   "execution_count": 22,
   "metadata": {},
   "outputs": [
    {
     "name": "stdout",
     "output_type": "stream",
     "text": [
      "True\n"
     ]
    }
   ],
   "source": [
    "board = [[5,3,4,6,7,8,9,1,2],\n",
    "         [6,7,2,1,9,5,3,4,8],\n",
    "         [1,9,8,3,4,2,5,6,7],\n",
    "         [8,5,9,7,6,1,4,2,3],\n",
    "         [4,2,6,8,5,3,7,9,1],\n",
    "         [7,1,3,9,2,4,8,5,6],\n",
    "         [9,6,1,5,3,7,2,8,4],\n",
    "         [2,8,7,4,1,9,6,3,5],\n",
    "         [3,4,5,2,8,6,1,7,9],]\n",
    "\n",
    "def checkCol(board):\n",
    "    for i in range(len(board)):\n",
    "        arr = []\n",
    "        for j in range(len(board[0])):\n",
    "            arr.append(board[i][j])\n",
    "        if  not sorted(arr) == [1,2,3,4,5,6,7,8,9]:\n",
    "            return False\n",
    "    return True\n",
    "\n",
    "def checkRow(board):\n",
    "    for i in board:\n",
    "        if not sorted(i) == [1,2,3,4,5,6,7,8,9]:\n",
    "            return False\n",
    "    return True\n",
    "\n",
    "print(checkRow(board))\n",
    "\n"
   ]
  },
  {
   "cell_type": "code",
   "execution_count": null,
   "metadata": {},
   "outputs": [],
   "source": []
  },
  {
   "cell_type": "code",
   "execution_count": null,
   "metadata": {},
   "outputs": [],
   "source": []
  },
  {
   "cell_type": "code",
   "execution_count": null,
   "metadata": {},
   "outputs": [],
   "source": []
  }
 ],
 "metadata": {
  "interpreter": {
   "hash": "b045162bdca01e2136c08a46da31f1fcb6464344904d4da91e510304029bd0ee"
  },
  "kernelspec": {
   "display_name": "Python 3.7.3 64-bit ('pytorchenv': conda)",
   "name": "python3"
  },
  "language_info": {
   "codemirror_mode": {
    "name": "ipython",
    "version": 3
   },
   "file_extension": ".py",
   "mimetype": "text/x-python",
   "name": "python",
   "nbconvert_exporter": "python",
   "pygments_lexer": "ipython3",
   "version": "3.7.3"
  },
  "orig_nbformat": 4
 },
 "nbformat": 4,
 "nbformat_minor": 2
}
